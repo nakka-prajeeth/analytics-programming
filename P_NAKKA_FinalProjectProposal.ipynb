{
 "cells": [
  {
   "cell_type": "markdown",
   "id": "859d9cb6",
   "metadata": {},
   "source": [
    "# Final Project Proposal"
   ]
  },
  {
   "cell_type": "markdown",
   "id": "095d1468",
   "metadata": {},
   "source": [
    "#### By Prajeeth Nakka"
   ]
  },
  {
   "cell_type": "markdown",
   "id": "fe8fd6f2",
   "metadata": {},
   "source": [
    "## -----------------------------------------------------------------------------------------------------------"
   ]
  },
  {
   "cell_type": "markdown",
   "id": "3057a50f",
   "metadata": {},
   "source": [
    "## INTRODUCTION"
   ]
  },
  {
   "cell_type": "markdown",
   "id": "4d1d7afe",
   "metadata": {},
   "source": [
    "For people living in cities across the world, air pollution is a serious environmental concern. It has been connected to a number of health issues, including as cancer, cardiovascular and respiratory disorders, and early mortality. Everyone is impacted by air pollution, but certain neighborhoods and populations are disproportionately affected. Thus, figuring out practical ways to lessen the negative impacts of air pollution requires an understanding of the various regions' air quality and how it changes over time."
   ]
  },
  {
   "cell_type": "markdown",
   "id": "88688c7a",
   "metadata": {},
   "source": [
    "I will examine New York City's air quality monitoring data in this research project, which i got from the city's official website. One of the world's most populous cities is New York City, and its citizens are quite concerned about air pollution. Information on a number of air pollutants, such as particulate matter, ozone, nitrogen dioxide, sulfur dioxide, and carbon monoxide, is provided by this dataset. An extensive examination of the trends and patterns in the city's air quality is made possible by the dataset, which spans several years and places."
   ]
  },
  {
   "cell_type": "markdown",
   "id": "0c6cb09b",
   "metadata": {},
   "source": [
    "The goal of this research is to investigate the dataset's multiple features, such as the levels of the various contaminants, their spatiotemporal distribution, and their relationship to the weather. I intend to find areas with high pollution levels and comprehend the elements causing the high pollution levels by analyzing the dataset. By examining hospitalization rates and ER visits for respiratory and cardiovascular disorders, I also hope to investigate the relationship between air pollution and health.\n",
    "\n",
    "In summary, this study project will enable policymakers and public health professionals in designing targeted strategies to alleviate the detrimental health impacts of air pollution. It will also help comprehend the trends in New York City's air quality."
   ]
  },
  {
   "cell_type": "markdown",
   "id": "5b20d374",
   "metadata": {},
   "source": [
    "## -----------------------------------------------------------------------------------------------------------"
   ]
  },
  {
   "cell_type": "markdown",
   "id": "4a3f8f5f",
   "metadata": {},
   "source": [
    "## Research Questions:"
   ]
  },
  {
   "cell_type": "markdown",
   "id": "bebe8321",
   "metadata": {},
   "source": [
    "#### Research Question 1: What changes have you noticed in New York City's air quality over time?"
   ]
  },
  {
   "cell_type": "markdown",
   "id": "72f18a57",
   "metadata": {},
   "source": [
    "One serious environmental risk that negatively affects public health is air pollution. The purpose of this research question is to examine the historical changes in New York City's air quality. Through the examination of past data on air quality indicators, this study can assist us in recognizing patterns, trends, and shifts in air quality. Policymakers and public health professionals can use the research's findings to evaluate the efficacy of current air pollution laws and policies and pinpoint regions that might benefit from additional interventions aimed at enhancing air quality and lowering exposure to dangerous chemicals.\n"
   ]
  },
  {
   "cell_type": "markdown",
   "id": "52d22fb3",
   "metadata": {},
   "source": [
    "#### Research Question 2: Is air pollution worse in some parts of New York City than in others?\n"
   ]
  },
  {
   "cell_type": "markdown",
   "id": "0e899604",
   "metadata": {},
   "source": [
    "Due to variations in land use, pollution sources, and demographic characteristics, the distribution of air pollution levels in different neighborhoods in New York City can be highly variable. The purpose of this study question is to investigate whether exposure to air pollution varies throughout New York City neighborhoods. This study aims to determine which demographic groups are most vulnerable to air pollution and which neighborhoods are most affected by it by examining the air quality data at a detailed level (e.g., ZIP code, borough). Policies and activities targeted at lowering health inequalities and advancing environmental justice can be informed by the research's findings.\n"
   ]
  },
  {
   "cell_type": "markdown",
   "id": "0bfc3f23",
   "metadata": {},
   "source": [
    "#### Research Question 3: Which variables are most closely linked to New York City's air pollution levels?"
   ]
  },
  {
   "cell_type": "markdown",
   "id": "1250edd3",
   "metadata": {},
   "source": [
    "In New York City, there are a number of different sources of air pollution, including buildings, factories, and automobile traffic. This study topic seeks to determine which variables have the strongest correlations with the city's air pollution levels. This research can assist in identifying the main sources of air pollution and provide information for the creation of focused policies and interventions that attempt to reduce emissions from these sources by employing feature engineering and data preparation techniques.\n"
   ]
  },
  {
   "cell_type": "markdown",
   "id": "a6f5aefa",
   "metadata": {},
   "source": [
    "#### Research Question 4: In what ways does New York City's air quality differ from that of other US cities?\n"
   ]
  },
  {
   "cell_type": "markdown",
   "id": "8e6fb59c",
   "metadata": {},
   "source": [
    "The comparative analysis of air quality indicators among US communities can yield significant insights into the relative efficacy of air pollution controls and strategies. The purpose of this study topic is to assess how New York City's air quality compares to other US cities. This research can assist identify places where New York City is functioning well and where it might need to strengthen its air quality regulations and policies to better safeguard public health by leveraging data from other cities (e.g., sourced via web scraping or APIs). Policymakers can utilize the research's findings to guide the development of new air quality laws and policies.\n",
    "\n",
    "\n",
    "\n",
    "\n",
    "\n",
    "\n"
   ]
  },
  {
   "cell_type": "markdown",
   "id": "3c5dd85e",
   "metadata": {},
   "source": [
    "## -----------------------------------------------------------------------------------------------------------"
   ]
  },
  {
   "cell_type": "markdown",
   "id": "b11b38b3",
   "metadata": {},
   "source": [
    "## Data to be used \n"
   ]
  },
  {
   "cell_type": "markdown",
   "id": "7bd46c79",
   "metadata": {},
   "source": [
    "The data to be used for this case will be sourced from the New York City Department of Health and Mental Hygiene's Air Quality Surveillance data, which is available on the NYC Open Data platform (**[https://data.cityofnewyork.us/Environment/Air-Quality/c3uy-2p5r](https://data.cityofnewyork.us/Environment/Air-Quality/c3uy-2p5r)**). The dataset contains hourly air quality readings for various pollutants (such as PM2.5, ozone, and nitrogen dioxide) at over 30 monitoring stations across New York City.\n"
   ]
  },
  {
   "cell_type": "markdown",
   "id": "ad3852de",
   "metadata": {},
   "source": [
    "I will download the dataset in CSV format from the NYC Open Data website in order to view the data. I will make sure that we are working with the most recent version of the dataset because it is updated every day.\n"
   ]
  },
  {
   "cell_type": "markdown",
   "id": "297db9ca",
   "metadata": {},
   "source": [
    "I will also investigate any differences in exposure to air quality among various population groups in New York City using demographic data from the US Census Bureau. The Census Bureau's API may be used to get this data, and i will use the Python requests library to perform API calls and obtain the relevant data.\n"
   ]
  },
  {
   "cell_type": "markdown",
   "id": "cdb3a0c5",
   "metadata": {},
   "source": [
    "Furthermore, to compare air quality levels across other regions, i may use air quality data from other US cities. Depending on the data source, i will obtain this information through web scraping techniques or APIs. I will guarantee that every data source utilized for the project satisfies the specifications given in the project guidelines."
   ]
  },
  {
   "cell_type": "markdown",
   "id": "476c9faa",
   "metadata": {},
   "source": [
    "## -----------------------------------------------------------------------------------------------------------"
   ]
  },
  {
   "cell_type": "markdown",
   "id": "305fedd2",
   "metadata": {},
   "source": [
    "## Approach"
   ]
  },
  {
   "cell_type": "markdown",
   "id": "0659ffe4",
   "metadata": {},
   "source": [
    "I intend to download the data in CSV format from the Air Quality dataset and use pandas to import it into a Jupyter notebook in order to handle it. After doing data cleaning tasks such eliminating duplicates, dealing with missing values, and converting data types, I will do exploratory data analysis (EDA) to gain understanding of the data. After that, I'll reshape the data, changing its width to length and formatting its columns to be in date format. To get the data ready for statistical analysis, I'll employ suitable feature engineering techniques including scaling, normalization, and feature selection. To address my research topic, I will employ statistical analytic approaches such as regression analysis, time series analysis, and hypothesis testing.\n",
    "\n"
   ]
  },
  {
   "cell_type": "markdown",
   "id": "9c74bbe1",
   "metadata": {},
   "source": [
    "I intend to use libraries like matplotlib and seaborn to create visualizations like histograms, scatterplots, box plots, heat maps, and time series plots in order to provide an answer to my research topic. I will be able to see patterns, trends, and relationships in the data with the aid of these visual insights. In order to examine the data according to several categories such as location, time, and pollutant type, I will also use grouping and aggregation procedures such as groupby, pivot tables, and crosstabs."
   ]
  },
  {
   "cell_type": "markdown",
   "id": "00d11971",
   "metadata": {},
   "source": [
    "Environmentalists, and public health officials might utilize my research's findings to guide their judgments on air pollution control measures and how to execute them in the real world. For instance, my study could assist in determining the pollutant source and the location with the highest pollution levels. This data could be used to focus efforts on reducing pollution and to create legislation that lower emissions from energy generation, transportation, and industrial sources. The knowledge gathered from my investigation could also be applied to the creation of educational initiatives and public health interventions that assist the general public in lowering their exposure to air pollution.\n",
    "\n",
    "\n"
   ]
  },
  {
   "cell_type": "markdown",
   "id": "a79dbda5",
   "metadata": {},
   "source": [
    "## -----------------------------------------------------------------------------------------------------------"
   ]
  },
  {
   "cell_type": "markdown",
   "id": "c308e1dc",
   "metadata": {},
   "source": [
    "# THE END"
   ]
  }
 ],
 "metadata": {
  "kernelspec": {
   "display_name": "Python 3 (ipykernel)",
   "language": "python",
   "name": "python3"
  },
  "language_info": {
   "codemirror_mode": {
    "name": "ipython",
    "version": 3
   },
   "file_extension": ".py",
   "mimetype": "text/x-python",
   "name": "python",
   "nbconvert_exporter": "python",
   "pygments_lexer": "ipython3",
   "version": "3.9.13"
  }
 },
 "nbformat": 4,
 "nbformat_minor": 5
}
